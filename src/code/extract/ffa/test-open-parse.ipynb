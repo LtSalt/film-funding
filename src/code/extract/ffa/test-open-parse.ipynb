{
 "cells": [
  {
   "cell_type": "markdown",
   "metadata": {},
   "source": [
    "# Test Open-Parse"
   ]
  },
  {
   "cell_type": "code",
   "execution_count": 25,
   "metadata": {},
   "outputs": [
    {
     "name": "stderr",
     "output_type": "stream",
     "text": [
      "/var/folders/l7/vydfy00923bbffxnn8rgvf0r0000gn/T/ipykernel_8019/3073526878.py:2: DeprecationWarning: pkg_resources is deprecated as an API. See https://setuptools.pypa.io/en/latest/pkg_resources.html\n",
      "  import pkg_resources\n"
     ]
    },
    {
     "name": "stdout",
     "output_type": "stream",
     "text": [
      "0.6.0\n"
     ]
    },
    {
     "ename": "AttributeError",
     "evalue": "'dict' object has no attribute 'name'",
     "output_type": "error",
     "traceback": [
      "\u001b[0;31m---------------------------------------------------------------------------\u001b[0m",
      "\u001b[0;31mAttributeError\u001b[0m                            Traceback (most recent call last)",
      "Cell \u001b[0;32mIn[25], line 12\u001b[0m\n\u001b[1;32m      8\u001b[0m fr \u001b[38;5;241m=\u001b[39m \u001b[38;5;124m'\u001b[39m\u001b[38;5;124m/Users/david/Desktop/projekte/film-funding/src/data/raw/pdf/test5.pdf\u001b[39m\u001b[38;5;124m'\u001b[39m\n\u001b[1;32m     10\u001b[0m parser \u001b[38;5;241m=\u001b[39m openparse\u001b[38;5;241m.\u001b[39mDocumentParser()\n\u001b[0;32m---> 12\u001b[0m parsed_nodes \u001b[38;5;241m=\u001b[39m \u001b[43mparser\u001b[49m\u001b[38;5;241;43m.\u001b[39;49m\u001b[43mparse\u001b[49m\u001b[43m(\u001b[49m\u001b[43mfr\u001b[49m\u001b[43m)\u001b[49m\n",
      "File \u001b[0;32m~/Desktop/projekte/film-funding/venv/lib/python3.12/site-packages/openparse/doc_parser.py:100\u001b[0m, in \u001b[0;36mDocumentParser.parse\u001b[0;34m(self, file, ocr)\u001b[0m\n\u001b[1;32m     95\u001b[0m doc \u001b[38;5;241m=\u001b[39m Pdf(file)\n\u001b[1;32m     97\u001b[0m text_engine: Literal[\u001b[38;5;124m\"\u001b[39m\u001b[38;5;124mpdfminer\u001b[39m\u001b[38;5;124m\"\u001b[39m, \u001b[38;5;124m\"\u001b[39m\u001b[38;5;124mpymupdf\u001b[39m\u001b[38;5;124m\"\u001b[39m] \u001b[38;5;241m=\u001b[39m (\n\u001b[1;32m     98\u001b[0m     \u001b[38;5;124m\"\u001b[39m\u001b[38;5;124mpdfminer\u001b[39m\u001b[38;5;124m\"\u001b[39m \u001b[38;5;28;01mif\u001b[39;00m \u001b[38;5;129;01mnot\u001b[39;00m ocr \u001b[38;5;28;01melse\u001b[39;00m \u001b[38;5;124m\"\u001b[39m\u001b[38;5;124mpymupdf\u001b[39m\u001b[38;5;124m\"\u001b[39m\n\u001b[1;32m     99\u001b[0m )\n\u001b[0;32m--> 100\u001b[0m text_elems \u001b[38;5;241m=\u001b[39m \u001b[43mtext\u001b[49m\u001b[38;5;241;43m.\u001b[39;49m\u001b[43mingest\u001b[49m\u001b[43m(\u001b[49m\u001b[43mdoc\u001b[49m\u001b[43m,\u001b[49m\u001b[43m \u001b[49m\u001b[43mparsing_method\u001b[49m\u001b[38;5;241;43m=\u001b[39;49m\u001b[43mtext_engine\u001b[49m\u001b[43m)\u001b[49m\n\u001b[1;32m    101\u001b[0m text_nodes \u001b[38;5;241m=\u001b[39m \u001b[38;5;28mself\u001b[39m\u001b[38;5;241m.\u001b[39m_elems_to_nodes(text_elems)\n\u001b[1;32m    103\u001b[0m table_nodes \u001b[38;5;241m=\u001b[39m []\n",
      "File \u001b[0;32m~/Desktop/projekte/film-funding/venv/lib/python3.12/site-packages/openparse/text/parse.py:19\u001b[0m, in \u001b[0;36mingest\u001b[0;34m(doc, parsing_method)\u001b[0m\n\u001b[1;32m     12\u001b[0m \u001b[38;5;250m\u001b[39m\u001b[38;5;124;03m\"\"\"\u001b[39;00m\n\u001b[1;32m     13\u001b[0m \u001b[38;5;124;03mDefault to pdfminer-based implementation.\u001b[39;00m\n\u001b[1;32m     14\u001b[0m \n\u001b[1;32m     15\u001b[0m \u001b[38;5;124;03mOptional use the PyMuPDF-based implementation which has identical behaviour but supports OCR. Important - see their licensing to view the terms of use:\u001b[39;00m\n\u001b[1;32m     16\u001b[0m \u001b[38;5;124;03mhttps://mupdf.com/licensing/index.html\u001b[39;00m\n\u001b[1;32m     17\u001b[0m \u001b[38;5;124;03m\"\"\"\u001b[39;00m\n\u001b[1;32m     18\u001b[0m \u001b[38;5;28;01mif\u001b[39;00m parsing_method \u001b[38;5;241m==\u001b[39m \u001b[38;5;124m\"\u001b[39m\u001b[38;5;124mpdfminer\u001b[39m\u001b[38;5;124m\"\u001b[39m:\n\u001b[0;32m---> 19\u001b[0m     \u001b[38;5;28;01mreturn\u001b[39;00m \u001b[43mpdfminer\u001b[49m\u001b[38;5;241;43m.\u001b[39;49m\u001b[43mingest\u001b[49m\u001b[43m(\u001b[49m\u001b[43mdoc\u001b[49m\u001b[43m)\u001b[49m\n\u001b[1;32m     20\u001b[0m \u001b[38;5;28;01melif\u001b[39;00m parsing_method \u001b[38;5;241m==\u001b[39m \u001b[38;5;124m\"\u001b[39m\u001b[38;5;124mpymupdf\u001b[39m\u001b[38;5;124m\"\u001b[39m:\n\u001b[1;32m     21\u001b[0m     \u001b[38;5;28;01mreturn\u001b[39;00m pymupdf\u001b[38;5;241m.\u001b[39mingest(doc)\n",
      "File \u001b[0;32m~/Desktop/projekte/film-funding/venv/lib/python3.12/site-packages/openparse/text/pdfminer/core.py:181\u001b[0m, in \u001b[0;36mingest\u001b[0;34m(pdf_input)\u001b[0m\n\u001b[1;32m    179\u001b[0m \u001b[38;5;28;01mfor\u001b[39;00m e \u001b[38;5;129;01min\u001b[39;00m element\u001b[38;5;241m.\u001b[39m_objs:\n\u001b[1;32m    180\u001b[0m     \u001b[38;5;28;01mif\u001b[39;00m \u001b[38;5;28misinstance\u001b[39m(e, LTImage):\n\u001b[0;32m--> 181\u001b[0m         mime_type \u001b[38;5;241m=\u001b[39m \u001b[43mget_mime_type\u001b[49m\u001b[43m(\u001b[49m\u001b[43me\u001b[49m\u001b[43m)\u001b[49m\n\u001b[1;32m    182\u001b[0m         \u001b[38;5;28;01mif\u001b[39;00m mime_type:\n\u001b[1;32m    183\u001b[0m             img_data \u001b[38;5;241m=\u001b[39m BytesIO(e\u001b[38;5;241m.\u001b[39mstream\u001b[38;5;241m.\u001b[39mget_data())\u001b[38;5;241m.\u001b[39mgetvalue()\n",
      "File \u001b[0;32m~/Desktop/projekte/film-funding/venv/lib/python3.12/site-packages/openparse/text/pdfminer/core.py:68\u001b[0m, in \u001b[0;36mget_mime_type\u001b[0;34m(pdf_object)\u001b[0m\n\u001b[1;32m     66\u001b[0m \u001b[38;5;28;01mdef\u001b[39;00m \u001b[38;5;21mget_mime_type\u001b[39m(pdf_object: LTImage) \u001b[38;5;241m-\u001b[39m\u001b[38;5;241m>\u001b[39m Optional[\u001b[38;5;28mstr\u001b[39m]:\n\u001b[1;32m     67\u001b[0m     subtype \u001b[38;5;241m=\u001b[39m pdf_object\u001b[38;5;241m.\u001b[39mstream\u001b[38;5;241m.\u001b[39mattrs\u001b[38;5;241m.\u001b[39mget(\u001b[38;5;124m\"\u001b[39m\u001b[38;5;124mSubtype\u001b[39m\u001b[38;5;124m\"\u001b[39m, {\u001b[38;5;124m\"\u001b[39m\u001b[38;5;124mname\u001b[39m\u001b[38;5;124m\"\u001b[39m: \u001b[38;5;28;01mNone\u001b[39;00m})\u001b[38;5;241m.\u001b[39mname\n\u001b[0;32m---> 68\u001b[0m     filter_ \u001b[38;5;241m=\u001b[39m \u001b[43mpdf_object\u001b[49m\u001b[38;5;241;43m.\u001b[39;49m\u001b[43mstream\u001b[49m\u001b[38;5;241;43m.\u001b[39;49m\u001b[43mattrs\u001b[49m\u001b[38;5;241;43m.\u001b[39;49m\u001b[43mget\u001b[49m\u001b[43m(\u001b[49m\u001b[38;5;124;43m\"\u001b[39;49m\u001b[38;5;124;43mFilter\u001b[39;49m\u001b[38;5;124;43m\"\u001b[39;49m\u001b[43m,\u001b[49m\u001b[43m \u001b[49m\u001b[43m{\u001b[49m\u001b[38;5;124;43m\"\u001b[39;49m\u001b[38;5;124;43mname\u001b[39;49m\u001b[38;5;124;43m\"\u001b[39;49m\u001b[43m:\u001b[49m\u001b[43m \u001b[49m\u001b[38;5;28;43;01mNone\u001b[39;49;00m\u001b[43m}\u001b[49m\u001b[43m)\u001b[49m\u001b[38;5;241;43m.\u001b[39;49m\u001b[43mname\u001b[49m\n\u001b[1;32m     69\u001b[0m     \u001b[38;5;28;01mif\u001b[39;00m subtype \u001b[38;5;241m==\u001b[39m \u001b[38;5;124m\"\u001b[39m\u001b[38;5;124mImage\u001b[39m\u001b[38;5;124m\"\u001b[39m:\n\u001b[1;32m     70\u001b[0m         \u001b[38;5;28;01mif\u001b[39;00m filter_ \u001b[38;5;241m==\u001b[39m \u001b[38;5;124m\"\u001b[39m\u001b[38;5;124mDCTDecode\u001b[39m\u001b[38;5;124m\"\u001b[39m:\n",
      "\u001b[0;31mAttributeError\u001b[0m: 'dict' object has no attribute 'name'"
     ]
    }
   ],
   "source": [
    "import openparse\n",
    "import pkg_resources\n",
    "from pathlib import Path\n",
    "\n",
    "version = pkg_resources.get_distribution(\"openparse\").version\n",
    "print(version)\n",
    "\n",
    "fr = '/Users/david/Desktop/projekte/film-funding/src/data/raw/pdf/test5.pdf'\n",
    "\n",
    "parser = openparse.DocumentParser()\n",
    "\n",
    "parsed_nodes = parser.parse(fr)"
   ]
  },
  {
   "cell_type": "code",
   "execution_count": 26,
   "metadata": {},
   "outputs": [
    {
     "ename": "AttributeError",
     "evalue": "'dict' object has no attribute 'name'",
     "output_type": "error",
     "traceback": [
      "\u001b[0;31m---------------------------------------------------------------------------\u001b[0m",
      "\u001b[0;31mAttributeError\u001b[0m                            Traceback (most recent call last)",
      "Cell \u001b[0;32mIn[26], line 7\u001b[0m\n\u001b[1;32m      1\u001b[0m parser \u001b[38;5;241m=\u001b[39m openparse\u001b[38;5;241m.\u001b[39mDocumentParser(\n\u001b[1;32m      2\u001b[0m         table_args\u001b[38;5;241m=\u001b[39m{\n\u001b[1;32m      3\u001b[0m             \u001b[38;5;124m\"\u001b[39m\u001b[38;5;124mparsing_algorithm\u001b[39m\u001b[38;5;124m\"\u001b[39m: \u001b[38;5;124m\"\u001b[39m\u001b[38;5;124munitable\u001b[39m\u001b[38;5;124m\"\u001b[39m,\n\u001b[1;32m      4\u001b[0m             \u001b[38;5;124m\"\u001b[39m\u001b[38;5;124mmin_table_confidence\u001b[39m\u001b[38;5;124m\"\u001b[39m: \u001b[38;5;241m0.8\u001b[39m,\n\u001b[1;32m      5\u001b[0m         },\n\u001b[1;32m      6\u001b[0m )\n\u001b[0;32m----> 7\u001b[0m parsed_nodes \u001b[38;5;241m=\u001b[39m \u001b[43mparser\u001b[49m\u001b[38;5;241;43m.\u001b[39;49m\u001b[43mparse\u001b[49m\u001b[43m(\u001b[49m\u001b[43mfr\u001b[49m\u001b[43m)\u001b[49m\n",
      "File \u001b[0;32m~/Desktop/projekte/film-funding/venv/lib/python3.12/site-packages/openparse/doc_parser.py:100\u001b[0m, in \u001b[0;36mDocumentParser.parse\u001b[0;34m(self, file, ocr)\u001b[0m\n\u001b[1;32m     95\u001b[0m doc \u001b[38;5;241m=\u001b[39m Pdf(file)\n\u001b[1;32m     97\u001b[0m text_engine: Literal[\u001b[38;5;124m\"\u001b[39m\u001b[38;5;124mpdfminer\u001b[39m\u001b[38;5;124m\"\u001b[39m, \u001b[38;5;124m\"\u001b[39m\u001b[38;5;124mpymupdf\u001b[39m\u001b[38;5;124m\"\u001b[39m] \u001b[38;5;241m=\u001b[39m (\n\u001b[1;32m     98\u001b[0m     \u001b[38;5;124m\"\u001b[39m\u001b[38;5;124mpdfminer\u001b[39m\u001b[38;5;124m\"\u001b[39m \u001b[38;5;28;01mif\u001b[39;00m \u001b[38;5;129;01mnot\u001b[39;00m ocr \u001b[38;5;28;01melse\u001b[39;00m \u001b[38;5;124m\"\u001b[39m\u001b[38;5;124mpymupdf\u001b[39m\u001b[38;5;124m\"\u001b[39m\n\u001b[1;32m     99\u001b[0m )\n\u001b[0;32m--> 100\u001b[0m text_elems \u001b[38;5;241m=\u001b[39m \u001b[43mtext\u001b[49m\u001b[38;5;241;43m.\u001b[39;49m\u001b[43mingest\u001b[49m\u001b[43m(\u001b[49m\u001b[43mdoc\u001b[49m\u001b[43m,\u001b[49m\u001b[43m \u001b[49m\u001b[43mparsing_method\u001b[49m\u001b[38;5;241;43m=\u001b[39;49m\u001b[43mtext_engine\u001b[49m\u001b[43m)\u001b[49m\n\u001b[1;32m    101\u001b[0m text_nodes \u001b[38;5;241m=\u001b[39m \u001b[38;5;28mself\u001b[39m\u001b[38;5;241m.\u001b[39m_elems_to_nodes(text_elems)\n\u001b[1;32m    103\u001b[0m table_nodes \u001b[38;5;241m=\u001b[39m []\n",
      "File \u001b[0;32m~/Desktop/projekte/film-funding/venv/lib/python3.12/site-packages/openparse/text/parse.py:19\u001b[0m, in \u001b[0;36mingest\u001b[0;34m(doc, parsing_method)\u001b[0m\n\u001b[1;32m     12\u001b[0m \u001b[38;5;250m\u001b[39m\u001b[38;5;124;03m\"\"\"\u001b[39;00m\n\u001b[1;32m     13\u001b[0m \u001b[38;5;124;03mDefault to pdfminer-based implementation.\u001b[39;00m\n\u001b[1;32m     14\u001b[0m \n\u001b[1;32m     15\u001b[0m \u001b[38;5;124;03mOptional use the PyMuPDF-based implementation which has identical behaviour but supports OCR. Important - see their licensing to view the terms of use:\u001b[39;00m\n\u001b[1;32m     16\u001b[0m \u001b[38;5;124;03mhttps://mupdf.com/licensing/index.html\u001b[39;00m\n\u001b[1;32m     17\u001b[0m \u001b[38;5;124;03m\"\"\"\u001b[39;00m\n\u001b[1;32m     18\u001b[0m \u001b[38;5;28;01mif\u001b[39;00m parsing_method \u001b[38;5;241m==\u001b[39m \u001b[38;5;124m\"\u001b[39m\u001b[38;5;124mpdfminer\u001b[39m\u001b[38;5;124m\"\u001b[39m:\n\u001b[0;32m---> 19\u001b[0m     \u001b[38;5;28;01mreturn\u001b[39;00m \u001b[43mpdfminer\u001b[49m\u001b[38;5;241;43m.\u001b[39;49m\u001b[43mingest\u001b[49m\u001b[43m(\u001b[49m\u001b[43mdoc\u001b[49m\u001b[43m)\u001b[49m\n\u001b[1;32m     20\u001b[0m \u001b[38;5;28;01melif\u001b[39;00m parsing_method \u001b[38;5;241m==\u001b[39m \u001b[38;5;124m\"\u001b[39m\u001b[38;5;124mpymupdf\u001b[39m\u001b[38;5;124m\"\u001b[39m:\n\u001b[1;32m     21\u001b[0m     \u001b[38;5;28;01mreturn\u001b[39;00m pymupdf\u001b[38;5;241m.\u001b[39mingest(doc)\n",
      "File \u001b[0;32m~/Desktop/projekte/film-funding/venv/lib/python3.12/site-packages/openparse/text/pdfminer/core.py:181\u001b[0m, in \u001b[0;36mingest\u001b[0;34m(pdf_input)\u001b[0m\n\u001b[1;32m    179\u001b[0m \u001b[38;5;28;01mfor\u001b[39;00m e \u001b[38;5;129;01min\u001b[39;00m element\u001b[38;5;241m.\u001b[39m_objs:\n\u001b[1;32m    180\u001b[0m     \u001b[38;5;28;01mif\u001b[39;00m \u001b[38;5;28misinstance\u001b[39m(e, LTImage):\n\u001b[0;32m--> 181\u001b[0m         mime_type \u001b[38;5;241m=\u001b[39m \u001b[43mget_mime_type\u001b[49m\u001b[43m(\u001b[49m\u001b[43me\u001b[49m\u001b[43m)\u001b[49m\n\u001b[1;32m    182\u001b[0m         \u001b[38;5;28;01mif\u001b[39;00m mime_type:\n\u001b[1;32m    183\u001b[0m             img_data \u001b[38;5;241m=\u001b[39m BytesIO(e\u001b[38;5;241m.\u001b[39mstream\u001b[38;5;241m.\u001b[39mget_data())\u001b[38;5;241m.\u001b[39mgetvalue()\n",
      "File \u001b[0;32m~/Desktop/projekte/film-funding/venv/lib/python3.12/site-packages/openparse/text/pdfminer/core.py:68\u001b[0m, in \u001b[0;36mget_mime_type\u001b[0;34m(pdf_object)\u001b[0m\n\u001b[1;32m     66\u001b[0m \u001b[38;5;28;01mdef\u001b[39;00m \u001b[38;5;21mget_mime_type\u001b[39m(pdf_object: LTImage) \u001b[38;5;241m-\u001b[39m\u001b[38;5;241m>\u001b[39m Optional[\u001b[38;5;28mstr\u001b[39m]:\n\u001b[1;32m     67\u001b[0m     subtype \u001b[38;5;241m=\u001b[39m pdf_object\u001b[38;5;241m.\u001b[39mstream\u001b[38;5;241m.\u001b[39mattrs\u001b[38;5;241m.\u001b[39mget(\u001b[38;5;124m\"\u001b[39m\u001b[38;5;124mSubtype\u001b[39m\u001b[38;5;124m\"\u001b[39m, {\u001b[38;5;124m\"\u001b[39m\u001b[38;5;124mname\u001b[39m\u001b[38;5;124m\"\u001b[39m: \u001b[38;5;28;01mNone\u001b[39;00m})\u001b[38;5;241m.\u001b[39mname\n\u001b[0;32m---> 68\u001b[0m     filter_ \u001b[38;5;241m=\u001b[39m \u001b[43mpdf_object\u001b[49m\u001b[38;5;241;43m.\u001b[39;49m\u001b[43mstream\u001b[49m\u001b[38;5;241;43m.\u001b[39;49m\u001b[43mattrs\u001b[49m\u001b[38;5;241;43m.\u001b[39;49m\u001b[43mget\u001b[49m\u001b[43m(\u001b[49m\u001b[38;5;124;43m\"\u001b[39;49m\u001b[38;5;124;43mFilter\u001b[39;49m\u001b[38;5;124;43m\"\u001b[39;49m\u001b[43m,\u001b[49m\u001b[43m \u001b[49m\u001b[43m{\u001b[49m\u001b[38;5;124;43m\"\u001b[39;49m\u001b[38;5;124;43mname\u001b[39;49m\u001b[38;5;124;43m\"\u001b[39;49m\u001b[43m:\u001b[49m\u001b[43m \u001b[49m\u001b[38;5;28;43;01mNone\u001b[39;49;00m\u001b[43m}\u001b[49m\u001b[43m)\u001b[49m\u001b[38;5;241;43m.\u001b[39;49m\u001b[43mname\u001b[49m\n\u001b[1;32m     69\u001b[0m     \u001b[38;5;28;01mif\u001b[39;00m subtype \u001b[38;5;241m==\u001b[39m \u001b[38;5;124m\"\u001b[39m\u001b[38;5;124mImage\u001b[39m\u001b[38;5;124m\"\u001b[39m:\n\u001b[1;32m     70\u001b[0m         \u001b[38;5;28;01mif\u001b[39;00m filter_ \u001b[38;5;241m==\u001b[39m \u001b[38;5;124m\"\u001b[39m\u001b[38;5;124mDCTDecode\u001b[39m\u001b[38;5;124m\"\u001b[39m:\n",
      "\u001b[0;31mAttributeError\u001b[0m: 'dict' object has no attribute 'name'"
     ]
    }
   ],
   "source": [
    "parser = openparse.DocumentParser(\n",
    "        table_args={\n",
    "            \"parsing_algorithm\": \"unitable\",\n",
    "            \"min_table_confidence\": 0.8,\n",
    "        },\n",
    ")\n",
    "parsed_nodes = parser.parse(fr)"
   ]
  },
  {
   "cell_type": "code",
   "execution_count": 23,
   "metadata": {},
   "outputs": [],
   "source": [
    "# table_nodes = [node for node in parsed_nodes if 'table' in node.variant]\n",
    "\n",
    "# for node in table_nodes:\n",
    "#     display(node)"
   ]
  },
  {
   "cell_type": "code",
   "execution_count": 22,
   "metadata": {},
   "outputs": [],
   "source": [
    "# doc = openparse.Pdf(fr)\n",
    "# doc.display_with_bboxes(table_nodes)"
   ]
  }
 ],
 "metadata": {
  "kernelspec": {
   "display_name": "venv",
   "language": "python",
   "name": "python3"
  },
  "language_info": {
   "codemirror_mode": {
    "name": "ipython",
    "version": 3
   },
   "file_extension": ".py",
   "mimetype": "text/x-python",
   "name": "python",
   "nbconvert_exporter": "python",
   "pygments_lexer": "ipython3",
   "version": "3.12.0"
  }
 },
 "nbformat": 4,
 "nbformat_minor": 2
}
